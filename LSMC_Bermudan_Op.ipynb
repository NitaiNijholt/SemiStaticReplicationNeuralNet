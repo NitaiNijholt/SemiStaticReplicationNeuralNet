{
 "cells": [
  {
   "cell_type": "code",
   "execution_count": 1,
   "metadata": {},
   "outputs": [],
   "source": [
    "import matplotlib.pyplot as plt\n",
    "import numpy as np\n",
    "from scipy.stats import norm"
   ]
  },
  {
   "cell_type": "code",
   "execution_count": 2,
   "metadata": {},
   "outputs": [],
   "source": [
    "\n",
    "def bermudan_option_pricer(S0, K, r, sigma, T, exercise_dates, n_paths, n_steps, option_type='put'):\n",
    "    \"\"\"\n",
    "    Price a Bermudan option using Least Squares Monte Carlo (LSM) method\n",
    "    \n",
    "    Parameters:\n",
    "    S0 (float): Initial stock price\n",
    "    K (float): Strike price\n",
    "    r (float): Risk-free rate\n",
    "    sigma (float): Volatility\n",
    "    T (float): Time to maturity in years\n",
    "    exercise_dates (list): List of possible exercise dates (as fractions of T)\n",
    "    n_paths (int): Number of Monte Carlo paths\n",
    "    n_steps (int): Number of time steps\n",
    "    option_type (str): 'put' or 'call'\n",
    "    \n",
    "    Returns:\n",
    "    float: Option price\n",
    "    \"\"\"\n",
    "    dt = T / n_steps\n",
    "    \n",
    "    # Generate stock price paths\n",
    "    Z = np.random.standard_normal((n_paths, n_steps))\n",
    "    S = np.zeros((n_paths, n_steps + 1))\n",
    "    S[:, 0] = S0\n",
    "    \n",
    "    # Simulate stock price paths\n",
    "    for t in range(1, n_steps + 1):\n",
    "        S[:, t] = S[:, t-1] * np.exp((r - 0.5 * sigma**2) * dt + \n",
    "                                    sigma * np.sqrt(dt) * Z[:, t-1])\n",
    "    \n",
    "    # Initialize exercise value matrix\n",
    "    if option_type == 'put':\n",
    "        exercise_value = np.maximum(K - S, 0)\n",
    "    else:\n",
    "        exercise_value = np.maximum(S - K, 0)\n",
    "    \n",
    "    # Initialize value matrix with terminal payoff\n",
    "    V = exercise_value[:, -1]\n",
    "    \n",
    "    # Backward induction through exercise dates\n",
    "    for t in range(n_steps-1, -1, -1):\n",
    "        if t/n_steps in exercise_dates:\n",
    "            # Current stock prices and exercise values\n",
    "            X = S[:, t]\n",
    "            Y = V * np.exp(-r * dt)\n",
    "            \n",
    "            # Fit polynomial regression\n",
    "            in_the_money = exercise_value[:, t] > 0\n",
    "            if sum(in_the_money) > 0:\n",
    "                coeffs = np.polyfit(X[in_the_money], Y[in_the_money], 2)\n",
    "                continuation_value = np.polyval(coeffs, X)\n",
    "                \n",
    "                # Exercise decision\n",
    "                exercise = exercise_value[:, t]\n",
    "                V = np.where(exercise > continuation_value, \n",
    "                            exercise,\n",
    "                            V * np.exp(-r * dt))\n",
    "            else:\n",
    "                V = V * np.exp(-r * dt)\n",
    "        else:\n",
    "            V = V * np.exp(-r * dt)\n",
    "    \n",
    "    return np.mean(V)\n",
    "  "
   ]
  },
  {
   "cell_type": "markdown",
   "metadata": {},
   "source": [
    "### Test if Bermudan price approaches European price with only final exercise date"
   ]
  },
  {
   "cell_type": "code",
   "execution_count": 3,
   "metadata": {},
   "outputs": [
    {
     "name": "stdout",
     "output_type": "stream",
     "text": [
      "{'test': np.True_, 'berm_price': np.float64(5.593411645865038), 'euro_price': np.float64(5.573526022256971), 'difference': np.float64(0.019885623608066894)}\n"
     ]
    }
   ],
   "source": [
    "S0, K = 100, 100\n",
    "r, sigma = 0.05, 0.2\n",
    "T = 1.0\n",
    "n_paths = 50000\n",
    "n_steps = 252\n",
    "\n",
    "results = {}\n",
    "\n",
    "# Bermudan with only final exercise\n",
    "berm_price = bermudan_option_pricer(S0, K, r, sigma, T, [1.0], \n",
    "                                    n_paths, n_steps, 'put')\n",
    "\n",
    "# Black-Scholes European price\n",
    "d1 = (np.log(S0/K) + (r + sigma**2/2)*T) / (sigma*np.sqrt(T))\n",
    "d2 = d1 - sigma*np.sqrt(T)\n",
    "euro_price = K*np.exp(-r*T)*norm.cdf(-d2) - S0*norm.cdf(-d1)\n",
    "\n",
    "diff = abs(berm_price - euro_price)\n",
    "results['european_limit'] = {\n",
    "    'test': diff < 0.5,  # Allow for Monte Carlo error\n",
    "    'berm_price': berm_price,\n",
    "    'euro_price': euro_price,\n",
    "    'difference': diff\n",
    "}\n",
    "print(results['european_limit'])\n"
   ]
  },
  {
   "cell_type": "markdown",
   "metadata": {},
   "source": [
    "### Test if Option Price Increase with more excercise opportunity"
   ]
  },
  {
   "cell_type": "code",
   "execution_count": 5,
   "metadata": {},
   "outputs": [
    {
     "name": "stdout",
     "output_type": "stream",
     "text": [
      "{'test': np.False_, 'price_1_exercise': np.float64(5.5737681893063895), 'price_2_exercises': np.float64(5.849665195296545), 'price_4_exercises': np.float64(5.683420723325426)}\n"
     ]
    }
   ],
   "source": [
    "S0, K = 100, 100\n",
    "r, sigma = 0.05, 0.2\n",
    "T = 1.0\n",
    "n_paths = 10000\n",
    "n_steps = 252\n",
    "\n",
    "# Price with different numbers of exercise dates\n",
    "price_1 = bermudan_option_pricer(S0, K, r, sigma, T, [1.0], \n",
    "                                n_paths, n_steps, 'put')\n",
    "price_2 = bermudan_option_pricer(S0, K, r, sigma, T, [0.5, 1.0], \n",
    "                                n_paths, n_steps, 'put')\n",
    "price_4 = bermudan_option_pricer(S0, K, r, sigma, T, [0.25, 0.5, 0.75, 1.0], \n",
    "                                n_paths, n_steps, 'put')\n",
    "\n",
    "results['monotonicity'] = {\n",
    "    'test': price_1 <= price_2 <= price_4,\n",
    "    'price_1_exercise': price_1,\n",
    "    'price_2_exercises': price_2,\n",
    "    'price_4_exercises': price_4\n",
    "}\n",
    "print(results['monotonicity'])"
   ]
  },
  {
   "cell_type": "markdown",
   "metadata": {},
   "source": [
    "### Test if put call Parity hold for bermudan option"
   ]
  },
  {
   "cell_type": "code",
   "execution_count": 6,
   "metadata": {},
   "outputs": [
    {
     "name": "stdout",
     "output_type": "stream",
     "text": [
      "{'test': np.True_, 'put_price': np.float64(5.384024728516284), 'call_price': np.float64(10.012858104816297), 'parity_difference': np.float64(-0.24822417362858573)}\n"
     ]
    }
   ],
   "source": [
    "S0, K = 100, 100\n",
    "r, sigma = 0.05, 0.2\n",
    "T = 1.0\n",
    "exercise_dates = [0.25, 0.5, 0.75, 1.0]\n",
    "n_paths = 10000\n",
    "n_steps = 252\n",
    "\n",
    "put_price = bermudan_option_pricer(S0, K, r, sigma, T, exercise_dates, \n",
    "                                    n_paths, n_steps, 'put')\n",
    "call_price = bermudan_option_pricer(S0, K, r, sigma, T, exercise_dates, \n",
    "                                    n_paths, n_steps, 'call')\n",
    "\n",
    "# For American/Bermudan options, put-call parity is an inequality\n",
    "parity_diff = call_price - put_price - S0 + K*np.exp(-r*T)\n",
    "results['put_call_parity'] = {\n",
    "    'test': abs(parity_diff) < 1.0,  # Allow for Monte Carlo error\n",
    "    'put_price': put_price,\n",
    "    'call_price': call_price,\n",
    "    'parity_difference': parity_diff\n",
    "}\n",
    "print(results['put_call_parity'])"
   ]
  },
  {
   "cell_type": "code",
   "execution_count": null,
   "metadata": {},
   "outputs": [],
   "source": []
  }
 ],
 "metadata": {
  "kernelspec": {
   "display_name": "Python 3",
   "language": "python",
   "name": "python3"
  },
  "language_info": {
   "codemirror_mode": {
    "name": "ipython",
    "version": 3
   },
   "file_extension": ".py",
   "mimetype": "text/x-python",
   "name": "python",
   "nbconvert_exporter": "python",
   "pygments_lexer": "ipython3",
   "version": "3.12.1"
  }
 },
 "nbformat": 4,
 "nbformat_minor": 2
}
