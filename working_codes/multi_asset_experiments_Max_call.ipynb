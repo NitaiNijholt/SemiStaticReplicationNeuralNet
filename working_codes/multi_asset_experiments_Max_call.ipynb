{
 "cells": [
  {
   "cell_type": "code",
   "execution_count": 1,
   "metadata": {},
   "outputs": [],
   "source": [
    "from MultiAssetClass import *\n",
    "from tqdm import tqdm\n",
    "import time\n",
    "import pandas as pd\n",
    "from Binomial_max_call import *"
   ]
  },
  {
   "cell_type": "code",
   "execution_count": 2,
   "metadata": {},
   "outputs": [
    {
     "name": "stdout",
     "output_type": "stream",
     "text": [
      "3-asset Bermudan max call price: 0.2263\n",
      "Deltas for 3-asset Bermudan max call: [0.36878474116652793, 0.3687847411662504, 0.3687847411662504]\n"
     ]
    }
   ],
   "source": [
    "\n",
    "# Test 3-asset case\n",
    "params_3_assets = {'S0_vector': [1, 1, 1],\n",
    "                   'K': 1,\n",
    "                   'T': 1,\n",
    "                   'r': 0.05,\n",
    "                   'q_vector': [0.0, 0.0, 0.0],\n",
    "                   'sigma_vector': [0.2, 0.2, 0.2],\n",
    "                   'rho_matrix': [[1.0, 0.0, 0.0],\n",
    "                                  [0.0, 1.0, 0.0],\n",
    "                                [0.0, 0.0, 1.0]],\n",
    "                   'M': 9,\n",
    "                    'num_steps': 30 }\n",
    "\n",
    "price_3_assets = price_multi_asset_bermudan_max_call(**params_3_assets)\n",
    "print(f\"3-asset Bermudan max call price: {price_3_assets:.4f}\")\n",
    "\n",
    "# for 3-asset case\n",
    "deltas_3_assets = compute_deltas(S0_vector=params_3_assets['S0_vector'],h=1e-4,**{k: v for k, v in params_3_assets.items() if k != 'S0_vector'})\n",
    "print(f\"Deltas for 3-asset Bermudan max call: {deltas_3_assets}\")"
   ]
  },
  {
   "cell_type": "code",
   "execution_count": 3,
   "metadata": {},
   "outputs": [
    {
     "name": "stdout",
     "output_type": "stream",
     "text": [
      "2-asset Bermudan max call price: 0.1538\n",
      "Deltas for 2-asset Bermudan max call: [0.4247300610786542, 0.42473006107879296]\n"
     ]
    }
   ],
   "source": [
    "\n",
    "# Test 2-asset case\n",
    "params_2_assets = {'S0_vector': [1, 1],\n",
    "                   'K': 1,\n",
    "                   'T': 1,\n",
    "                   'r': 0.05,\n",
    "                   'q_vector': [0.0, 0.0],\n",
    "                   'sigma_vector': [0.2, 0.2],\n",
    "                   'rho_matrix': [[1.0, 0.5], \n",
    "                                  [0.5, 1.0]],\n",
    "                   'M': 4,\n",
    "                   'num_steps': 30\n",
    "                   }\n",
    "price_2_assets = price_multi_asset_bermudan_max_call(**params_2_assets)\n",
    "print(f\"2-asset Bermudan max call price: {price_2_assets:.4f}\")\n",
    "\n",
    "# for 2-asset case\n",
    "deltas_2_assets = compute_deltas(S0_vector=params_2_assets['S0_vector'],h=1e-4,**{k: v for k, v in params_2_assets.items() if k != 'S0_vector'})\n",
    "print(f\"Deltas for 2-asset Bermudan max call: {deltas_2_assets}\")\n"
   ]
  },
  {
   "cell_type": "code",
   "execution_count": null,
   "metadata": {},
   "outputs": [],
   "source": [
    "no_of_paths = 50000\n",
    "no_of_assets = 2\n",
    "K = 1\n",
    "T = 1\n",
    "no_of_exercise_days = 4\n",
    "dt = T / (no_of_exercise_days)\n",
    "\n",
    "w = np.array([0.381, 0.065, 0.057, 0.270, 0.227])\n",
    "w = w.reshape(-1, 1)\n",
    "cor_mat = np.array([[1.0, 0.0], [0.0, 1.0]])\n",
    "vol_list = np.ones(no_of_assets) * 0.2\n",
    "#cov_mat = generate_covarinace_mat(cor_mat, vol_list, dt)\n",
    "r = 0.05\n",
    "S0 = 1\n",
    "divident = 0\n",
    "learning_rate = 1e-2\n",
    "no_hidden_nodes = 4\n",
    "nn_model = multi_asset_NN(no_hidden_nodes)\n",
    "price, mse, _= RLNN_MultiAsset(no_of_paths, no_of_assets, K, r, dt, divident , nn_model, cor_mat, vol_list, w, no_of_exercise_days, S0, learning_rate, \"Max\")"
   ]
  },
  {
   "cell_type": "code",
   "execution_count": null,
   "metadata": {},
   "outputs": [],
   "source": [
    "price, binomial_price"
   ]
  },
  {
   "cell_type": "code",
   "execution_count": null,
   "metadata": {},
   "outputs": [],
   "source": [
    "mse"
   ]
  },
  {
   "cell_type": "code",
   "execution_count": null,
   "metadata": {},
   "outputs": [],
   "source": [
    "binomial_price = price_2_assets"
   ]
  },
  {
   "cell_type": "code",
   "execution_count": null,
   "metadata": {},
   "outputs": [],
   "source": [
    "# Parameters\n",
    "no_of_paths = 20000\n",
    "no_of_assets = 2\n",
    "K = 1\n",
    "T = 1\n",
    "no_of_exercise_days = 4\n",
    "dt = T / no_of_exercise_days\n",
    "\n",
    "w = np.array([0.381, 0.065, 0.057, 0.270, 0.227]).reshape(-1, 1)\n",
    "cor_mat = np.array([[1.0, 0.0], [0.0, 1.0]])\n",
    "vol_list = np.ones(no_of_assets) * 0.2\n",
    "r = 0.05\n",
    "S0 = 1\n",
    "dividend = 0"
   ]
  },
  {
   "cell_type": "code",
   "execution_count": null,
   "metadata": {},
   "outputs": [],
   "source": [
    "learning_rate = 1e-3\n",
    "# Placeholder for results\n",
    "hidden_units_list = [8, 16, 32, 64, 128, 256, 512] # Different numbers of hidden nodes to test\n",
    "max_price_RLNN = []\n",
    "times = []\n",
    "max_mse = []\n",
    "\n",
    "for no_hidden_nodes in hidden_units_list:\n",
    "    # Initialize the neural network with the current number of hidden nodes\n",
    "    nn_model = multi_asset_NN(no_hidden_nodes)\n",
    "\n",
    "    # Time the execution\n",
    "    start_time = time.time()\n",
    "    \n",
    "    # Run the RLNN model\n",
    "    price, mse, _ = RLNN_MultiAsset(no_of_paths, no_of_assets, K, r, dt, dividend, nn_model, cor_mat, vol_list, w, no_of_exercise_days, S0, learning_rate, \"Max\")\n",
    "    \n",
    "    end_time = time.time()\n",
    "    elapsed_time = end_time - start_time\n",
    "\n",
    "    # Append results\n",
    "    max_price_RLNN.append(price)\n",
    "    max_mse.append(mse)\n",
    "    times.append(elapsed_time)"
   ]
  },
  {
   "cell_type": "code",
   "execution_count": null,
   "metadata": {},
   "outputs": [],
   "source": [
    "plt.plot(hidden_units_list, max_price_RLNN, label='RLNN')\n",
    "plt.axhline(y=binomial_price, color='r', linestyle='-', label='Binomial')"
   ]
  },
  {
   "cell_type": "code",
   "execution_count": null,
   "metadata": {},
   "outputs": [],
   "source": [
    "max_mse = np.array(max_mse)"
   ]
  },
  {
   "cell_type": "code",
   "execution_count": null,
   "metadata": {},
   "outputs": [],
   "source": [
    "max_mse = max_mse.sum(axis=1)"
   ]
  },
  {
   "cell_type": "code",
   "execution_count": null,
   "metadata": {},
   "outputs": [],
   "source": [
    "max_price_RLNN"
   ]
  },
  {
   "cell_type": "code",
   "execution_count": null,
   "metadata": {},
   "outputs": [],
   "source": [
    "dict = {\"Hidden Nodes\": hidden_units_list, \"Option Price\": max_price_RLNN, \"MSE\": max_mse, \"Time Taken\": times}\n",
    "df = pd.DataFrame(dict)\n",
    "df.to_csv(\"./Results/Max_RLNN_Hidden_Nodes_lr1_2.csv\", index=False)"
   ]
  },
  {
   "cell_type": "code",
   "execution_count": null,
   "metadata": {},
   "outputs": [],
   "source": [
    "learning_rate = 5e-3\n",
    "# Placeholder for results\n",
    "hidden_units_list = [8, 16, 32, 64, 128, 256, 512]  # Different numbers of hidden nodes to test\n",
    "max_price_RLNN5_3= []\n",
    "times5_3 = []\n",
    "max_mse5_3 = []\n",
    "\n",
    "for no_hidden_nodes in hidden_units_list:\n",
    "    # Initialize the neural network with the current number of hidden nodes\n",
    "    nn_model = multi_asset_NN(no_hidden_nodes)\n",
    "\n",
    "    # Time the execution\n",
    "    start_time = time.time()\n",
    "    \n",
    "    # Run the RLNN model\n",
    "    price, mse, _ = RLNN_MultiAsset(no_of_paths, no_of_assets, K, r, dt, dividend, nn_model, cor_mat, vol_list, w, no_of_exercise_days, S0, learning_rate, \"Max\")\n",
    "    \n",
    "    end_time = time.time()\n",
    "    elapsed_time = end_time - start_time\n",
    "\n",
    "    # Append results\n",
    "    max_price_RLNN5_3.append(price)\n",
    "    max_mse5_3.append(mse)\n",
    "    times5_3.append(elapsed_time)"
   ]
  },
  {
   "cell_type": "code",
   "execution_count": null,
   "metadata": {},
   "outputs": [],
   "source": [
    "dict = {\"Hidden Nodes\": hidden_units_list, \"Option Price\": max_price_RLNN5_3, \"MSE\": max_mse5_3, \"Time Taken\": times5_3}\n",
    "df = pd.DataFrame(dict)\n",
    "df.to_csv(\"./Results/Max_RLNN_Hidden_Nodes_lr5_3.csv\", index=False)"
   ]
  },
  {
   "cell_type": "code",
   "execution_count": null,
   "metadata": {},
   "outputs": [],
   "source": [
    "learning_rate = 1e-3\n",
    "# Placeholder for results\n",
    "hidden_units_list = [2, 4, 8, 16, 32, 64, 128, 256]  # Different numbers of hidden nodes to test\n",
    "max_price_RLNN1_3= []\n",
    "times1_3 = []\n",
    "max_mse1_3 = []\n",
    "\n",
    "for no_hidden_nodes in hidden_units_list:\n",
    "    # Initialize the neural network with the current number of hidden nodes\n",
    "    nn_model = multi_asset_NN(no_hidden_nodes)\n",
    "\n",
    "    # Time the execution\n",
    "    start_time = time.time()\n",
    "    \n",
    "    # Run the RLNN model\n",
    "    price, mse, _ = RLNN_MultiAsset(no_of_paths, no_of_assets, K, r, dt, dividend, nn_model, cor_mat, vol_list, w, no_of_exercise_days, S0, learning_rate, \"Max\")\n",
    "    \n",
    "    end_time = time.time()\n",
    "    elapsed_time = end_time - start_time\n",
    "\n",
    "    # Append results\n",
    "    max_price_RLNN1_3.append(price)\n",
    "    max_mse1_3.append(mse)\n",
    "    times1_3.append(elapsed_time)"
   ]
  },
  {
   "cell_type": "code",
   "execution_count": null,
   "metadata": {},
   "outputs": [],
   "source": [
    "dict = {\"Hidden Nodes\": hidden_units_list, \"Option Price\": max_price_RLNN1_3, \"MSE\": max_mse1_3, \"Time Taken\": times1_3}\n",
    "df = pd.DataFrame(dict)\n",
    "df.to_csv(\"./Results/Max_RLNN_Hidden_Nodes_lr1_3.csv\", index=False)"
   ]
  },
  {
   "cell_type": "code",
   "execution_count": null,
   "metadata": {},
   "outputs": [],
   "source": [
    "learning_rate = 5e-4\n",
    "# Placeholder for results\n",
    "hidden_units_list = [2, 4, 8, 16, 32, 64, 128, 256]  # Different numbers of hidden nodes to test\n",
    "max_price_RLNN5_4= []\n",
    "times5_4 = []\n",
    "max_mse5_4 = []\n",
    "\n",
    "for no_hidden_nodes in hidden_units_list:\n",
    "    # Initialize the neural network with the current number of hidden nodes\n",
    "    nn_model = multi_asset_NN(no_hidden_nodes)\n",
    "\n",
    "    # Time the execution\n",
    "    start_time = time.time()\n",
    "    \n",
    "    # Run the RLNN model\n",
    "    price, mse, _ = RLNN_MultiAsset(no_of_paths, no_of_assets, K, r, dt, dividend, nn_model, cor_mat, vol_list, w, no_of_exercise_days, S0, learning_rate, \"Max\")\n",
    "    \n",
    "    end_time = time.time()\n",
    "    elapsed_time = end_time - start_time\n",
    "\n",
    "    # Append results\n",
    "    max_price_RLNN5_4.append(price)\n",
    "    max_mse5_4.append(mse)\n",
    "    times5_4.append(elapsed_time)"
   ]
  },
  {
   "cell_type": "code",
   "execution_count": null,
   "metadata": {},
   "outputs": [],
   "source": [
    "dict = {\"Hidden Nodes\": hidden_units_list, \"Option Price\": max_price_RLNN5_4, \"MSE\": max_mse5_4, \"Time Taken\": times5_4}\n",
    "df = pd.DataFrame(dict)\n",
    "df.to_csv(\"./Results/Max_RLNN_Hidden_Nodes_lr5_4.csv\", index=False)"
   ]
  },
  {
   "cell_type": "code",
   "execution_count": null,
   "metadata": {},
   "outputs": [],
   "source": [
    "max_mse = np.array(max_mse)\n",
    "max_mse5_3 = np.array(max_mse5_3)\n",
    "max_mse1_3 = np.array(max_mse1_3)\n",
    "max_mse5_4 = np.array(max_mse5_4)\n"
   ]
  },
  {
   "cell_type": "code",
   "execution_count": null,
   "metadata": {},
   "outputs": [],
   "source": [
    "\n",
    "max_mse, max_mse5_3"
   ]
  },
  {
   "cell_type": "code",
   "execution_count": null,
   "metadata": {},
   "outputs": [],
   "source": [
    "plt.figure(figsize=(12, 6))\n",
    "plt.plot(hidden_units_list, max_mse, label=\"learning rate = 1e-2\", marker='*')\n",
    "plt.plot(hidden_units_list, max_mse5_3, label=\"learning rate =5e-3\", marker='*')\n",
    "plt.plot(hidden_units_list, max_mse1_3, label=\"learning rate = 1e-3\", marker='*')\n",
    "plt.plot(hidden_units_list, max_mse5_4, label=\"learning rate = 5e-4\", marker='*')\n",
    "plt.yscale(\"log\")\n",
    "plt.xscale('log', base=2)\n",
    "plt.xticks(hidden_units_list, labels= [str(i) for i in hidden_units_list])\n",
    "plt.legend()\n",
    "plt.xlabel(\"No of Hidden Nodes\")\n",
    "plt.ylabel(\"Fitting Error (MSE)\")\n",
    "plt.grid(True)\n",
    "#plt.savefig(\"./Results/Max_RLNN_Hidden_Nodes_MSE.jpeg\")\n",
    "plt.show()"
   ]
  },
  {
   "cell_type": "code",
   "execution_count": null,
   "metadata": {},
   "outputs": [],
   "source": [
    "plt.figure(figsize=(12, 6))\n",
    "plt.plot(hidden_units_list, max_price_RLNN, label=\"learning rate=1e-2\", marker='*')\n",
    "plt.plot(hidden_units_list, max_price_RLNN5_3, label=\"learning rate=5e-3\", marker='*')\n",
    "plt.plot(hidden_units_list, max_price_RLNN1_3, label=\"learning rate=1e-3\", marker='*')\n",
    "plt.plot(hidden_units_list, max_price_RLNN5_4, label=\"learning rate=5e-4\", marker='*')\n",
    "plt.axhline(y=binomial_price, color='r', linestyle='--', label=\"True Price\")\n",
    "plt.xscale('log', base=2)\n",
    "plt.xticks(hidden_units_list, labels=[str(val) for val in hidden_units_list])\n",
    "plt.xlabel(\"No of Hidden Nodes\")\n",
    "plt.ylabel(\"Option Price\")\n",
    "plt.grid(True)\n",
    "plt.savefig(\"./Results/Basket_RLNN_Hidden_Nodes_Price.jpeg\")\n",
    "\n",
    "plt.legend()\n",
    "plt.show()\n"
   ]
  },
  {
   "cell_type": "code",
   "execution_count": null,
   "metadata": {},
   "outputs": [],
   "source": [
    "plt.figure(figsize=(12, 6))\n",
    "plt.plot(hidden_units_list, times, label=\"learning rate=1e-2\", marker='*')\n",
    "plt.plot(hidden_units_list, times5_3, label=\"learning rate=5e-3\", marker='*')\n",
    "plt.plot(hidden_units_list, times1_3, label=\"learning rate=1e-3\", marker='*')\n",
    "plt.plot(hidden_units_list, times5_4, label=\"learning rate=5e-4\", marker='*')\n",
    "plt.xscale('log', base=2)\n",
    "plt.xticks(hidden_units_list, labels=[str(val) for val in hidden_units_list])\n",
    "plt.xlabel(\"No of Hidden Nodes\")\n",
    "plt.ylabel(\"Time Taken (s)\")\n",
    "plt.legend()\n",
    "plt.grid(True)\n",
    "plt.savefig(\"./Results/Basket_RLNN_Hidden_Nodes_Time.jpeg\")\n",
    "plt.show()"
   ]
  },
  {
   "cell_type": "code",
   "execution_count": null,
   "metadata": {},
   "outputs": [],
   "source": [
    "learning_rate = 5e-3\n",
    "option_price_max_sample_size = []\n",
    "mse_sample_size = []\n",
    "sample_sizes = [1000, 5000, 10000, 15000, 20000, 25000, 30000, 35000, 40000, 45000, 50000]\n",
    "for sample_size in tqdm(sample_sizes):\n",
    "    start = time.time()\n",
    "    nn_model = multi_asset_NN(128)\n",
    "    price, mse, _ = RLNN_MultiAsset(sample_size, no_of_assets, K, r, dt, dividend, nn_model, cor_mat, vol_list, w, no_of_exercise_days, S0, learning_rate, \"Max\")\n",
    "    option_price_max_sample_size.append(price)\n",
    "    mse_sample_size.append(mse)"
   ]
  },
  {
   "cell_type": "code",
   "execution_count": null,
   "metadata": {},
   "outputs": [],
   "source": [
    "dict1 = {\"Sample Size\": sample_sizes, \"Option Price\": option_price_max_sample_size, \"MSE\": mse_sample_size}\n",
    "df = pd.DataFrame(dict1)\n",
    "df.to_csv(\"./Results/Basket_RLNN_Sample_Size.csv\", index=False)"
   ]
  },
  {
   "cell_type": "code",
   "execution_count": null,
   "metadata": {},
   "outputs": [],
   "source": [
    "mse_sample_size = np.array(mse_sample_size)\n",
    "mse_sample_size = mse_sample_size.sum(axis=1)"
   ]
  },
  {
   "cell_type": "code",
   "execution_count": null,
   "metadata": {},
   "outputs": [],
   "source": [
    "plt.figure(figsize=(12, 6))\n",
    "plt.plot(sample_sizes, mse_sample_size, label=\"Option Price\", marker='*')\n",
    "#plt.yscale(\"log\")\n",
    "plt.xlabel(\"Sample Size\")\n",
    "plt.ylabel(\"Fitting Error (MSE)\")\n",
    "plt.grid(True)\n",
    "plt.legend()\n",
    "#plt.savefig(\"./Results/Basket_RLNN_Sample_Size_MSE.jpeg\")\n",
    "plt.show()"
   ]
  },
  {
   "cell_type": "code",
   "execution_count": null,
   "metadata": {},
   "outputs": [],
   "source": [
    "plt.figure(figsize=(12, 6))\n",
    "plt.plot(sample_sizes, np.array(option_price_max_sample_size), label=\"Option Price\", marker='o')\n",
    "plt.axhline(y=binomial_price, color='r', linestyle='--', label=\"True Price\")\n",
    "plt.xlabel(\"sample size\")\n",
    "plt.ylabel(\"Option Price\")\n",
    "plt.legend()\n",
    "plt.grid(True)\n",
    "plt.savefig(\"./Results/Basket_RLNN_Sample_Size_Price.jpeg\")\n",
    "plt.show()\n"
   ]
  },
  {
   "cell_type": "markdown",
   "metadata": {},
   "source": [
    "### Different Level of Moneyness"
   ]
  },
  {
   "cell_type": "code",
   "execution_count": null,
   "metadata": {},
   "outputs": [],
   "source": [
    "# In the Money option\n",
    "no_hidden_nodes = 128\n",
    "nn_model = multi_asset_NN(no_hidden_nodes)\n",
    "S0 = 1\n",
    "K = 1.1\n",
    "itm_prices = []\n",
    "no_of_paths = 25000\n",
    "\n",
    "for i in tqdm(range(30)):\n",
    "    Basket_price, mse, _ = RLNN_MultiAsset(no_of_paths, no_of_assets, K, r, dt, divident , nn_model, cor_mat, vol_list, w, no_of_exercise_days, S0, learning_rate, \"Basket\")\n",
    "    itm_prices.append(Basket_price)\n",
    "    \n",
    "std_err_ITM = np.std(itm_prices) / np.sqrt(30)\n",
    "mean_price_ITM = np.mean(itm_prices)"
   ]
  },
  {
   "cell_type": "code",
   "execution_count": null,
   "metadata": {},
   "outputs": [],
   "source": [
    "# At the Money option\n",
    "no_hidden_nodes = 64\n",
    "nn_model = multi_asset_NN(no_hidden_nodes)\n",
    "S0 = 1\n",
    "K = 1\n",
    "atm_prices = []\n",
    "\n",
    "for i in range(30):\n",
    "    Basket_price, mse, _ = RLNN_MultiAsset(no_of_paths, no_of_assets, K, r, dt, divident , nn_model, cor_mat, vol_list, w, no_of_exercise_days, S0, learning_rate, \"Basket\")\n",
    "    atm_prices.append(Basket_price)\n",
    "    \n",
    "std_err_ATM = np.std(atm_prices) / np.sqrt(30)\n",
    "mean_price_ATM = np.mean(atm_prices)"
   ]
  },
  {
   "cell_type": "code",
   "execution_count": null,
   "metadata": {},
   "outputs": [],
   "source": [
    "# Out of the Money option\n",
    "no_hidden_nodes = 64\n",
    "nn_model = multi_asset_NN(no_hidden_nodes)\n",
    "S0 = 1\n",
    "K = 0.9\n",
    "otm_prices = []\n",
    "\n",
    "for i in range(30):\n",
    "    Basket_price, mse, _ = RLNN_MultiAsset(no_of_paths, no_of_assets, K, r, dt, divident , nn_model, cor_mat, vol_list, w, no_of_exercise_days, S0, learning_rate, \"Basket\")\n",
    "    otm_prices.append(Basket_price)\n",
    "    \n",
    "std_err_OTM = np.std(otm_prices) / np.sqrt(30)\n",
    "mean_price_OTM = np.mean(otm_prices)"
   ]
  },
  {
   "cell_type": "code",
   "execution_count": null,
   "metadata": {},
   "outputs": [],
   "source": [
    "# Out of the Money option using MC\n",
    "S0 = 1\n",
    "K = 0.9\n",
    "otm_prices_MC = []\n",
    "\n",
    "for i in range(30):\n",
    "    Basket_price= arithmatic_basket_option_price(S0, r, vol_list, cor_mat, dt, no_of_assets, w, K, no_of_paths)\n",
    "    otm_prices_MC.append(Basket_price)\n",
    "    \n",
    "std_err_OTM_MC = np.std(otm_prices_MC) / np.sqrt(30)\n",
    "mean_price_OTM_MC = np.mean(otm_prices_MC)"
   ]
  },
  {
   "cell_type": "code",
   "execution_count": null,
   "metadata": {},
   "outputs": [],
   "source": [
    "# At the Money option using MC\n",
    "S0 = 1\n",
    "K = 1\n",
    "atm_prices_MC = []\n",
    "\n",
    "for i in range(30):\n",
    "    Basket_price = arithmatic_basket_option_price(S0, r, vol_list, cor_mat, dt, no_of_assets, w, K, no_of_paths)\n",
    "    atm_prices_MC.append(Basket_price)\n",
    "    \n",
    "std_err_ATM_MC = np.std(atm_prices_MC) / np.sqrt(30)\n",
    "mean_price_ATM_MC = np.mean(atm_prices_MC)"
   ]
  },
  {
   "cell_type": "code",
   "execution_count": null,
   "metadata": {},
   "outputs": [],
   "source": [
    "# In the Money option using MC\n",
    "S0 = 1\n",
    "K = 1.1\n",
    "itm_prices_MC = []\n",
    "\n",
    "for i in range(30):\n",
    "    Basket_price = arithmatic_basket_option_price(S0, r, vol_list, cor_mat, dt, no_of_assets, w, K, no_of_paths)\n",
    "    itm_prices_MC.append(Basket_price)\n",
    "    \n",
    "std_err_ITM_MC = np.std(itm_prices_MC) / np.sqrt(30)\n",
    "mean_price_ITM_MC = np.mean(itm_prices_MC)"
   ]
  },
  {
   "cell_type": "code",
   "execution_count": null,
   "metadata": {},
   "outputs": [],
   "source": [
    "print(\"In the money option_price RLNN: \", mean_price_ITM, \" standard error\" ,std_err_ITM, \"MC: \", mean_price_ITM_MC, \" standard error\", std_err_ITM_MC)\n",
    "print(\"At the money option_price RLNN: \", mean_price_ATM, \" standard error\", std_err_ATM, \"MC: \", mean_price_ATM_MC, \" standard error\", std_err_ATM_MC)\n",
    "print(\"Out of the money option_price RLNN: \", mean_price_OTM, \" standard error\", std_err_OTM, \"MC: \", mean_price_OTM_MC, \" standard error\", std_err_OTM_MC)"
   ]
  },
  {
   "cell_type": "code",
   "execution_count": null,
   "metadata": {},
   "outputs": [],
   "source": [
    "# Given parameters\n",
    "S0 = 1  # Initial asset price\n",
    "K = 1   # Strike price\n",
    "r = 0.05  # Risk-free interest rate\n",
    "q = 0  # Dividend yield\n",
    "T = 1  # Time to maturity\n",
    "no_of_exercise_days = 1  # Number of time steps\n",
    "vol_list = np.array([0.518, 0.648, 0.623, 0.570, 0.530])  # Volatility vector\n",
    "\n",
    "# Correlation matrix\n",
    "cor_mat = np.array([\n",
    "    [1.00, 0.79, 0.82, 0.91, 0.84],\n",
    "    [0.79, 1.00, 0.73, 0.80, 0.76],\n",
    "    [0.82, 0.73, 1.00, 0.77, 0.72],\n",
    "    [0.91, 0.80, 0.77, 1.00, 0.90],\n",
    "    [0.84, 0.76, 0.72, 0.90, 1.00]\n",
    "])\n",
    "no_of_paths = 20000\n",
    "no_of_assets = 5\n",
    "K = 1\n",
    "T = 1\n",
    "dt = T / (no_of_exercise_days)\n",
    "#cor_mat = np.ones((no_of_assets, no_of_assets))\n",
    "\n",
    "w = np.array([0.381, 0.065, 0.057, 0.270, 0.227])\n",
    "w = w.reshape(-1, 1)\n",
    "# cor_mat = np.eye(no_of_assets)\n",
    "# vol_list = np.ones(no_of_assets) * 0.2\n",
    "cov_mat = generate_covarinace_mat(cor_mat, vol_list, dt)\n",
    "r = 0.05\n",
    "S0 = 1\n",
    "divident = 0.0\n",
    "learning_rate = 5e-4\n",
    "no_hidden_nodes = 16\n",
    "nn_model = multi_asset_NN(no_hidden_nodes)\n",
    "price, mse, weights = RLNN_MultiAsset(no_of_paths, no_of_assets, K, r, dt, divident , nn_model, cor_mat, vol_list, w, no_of_exercise_days, S0, learning_rate, \"Basket\")\n",
    "\n",
    "print(\"Price of the option is: \", price)\n",
    "print(\"Mean Squared Error is: \", mse)\n",
    "print(\"Weights are: \", weights)"
   ]
  }
 ],
 "metadata": {
  "kernelspec": {
   "display_name": "base",
   "language": "python",
   "name": "python3"
  },
  "language_info": {
   "codemirror_mode": {
    "name": "ipython",
    "version": 3
   },
   "file_extension": ".py",
   "mimetype": "text/x-python",
   "name": "python",
   "nbconvert_exporter": "python",
   "pygments_lexer": "ipython3",
   "version": "3.11.5"
  }
 },
 "nbformat": 4,
 "nbformat_minor": 2
}
