{
 "cells": [
  {
   "cell_type": "code",
   "execution_count": 1,
   "metadata": {},
   "outputs": [],
   "source": [
    "import numpy as np\n",
    "import matplotlib.pyplot as plt\n",
    "from scipy.stats import norm\n",
    "import time \n",
    "from tqdm import tqdm\n",
    "import pandas as pd\n",
    "from Delta_Hedging_Binomial import *\n",
    "from semi_static_hedging import *\n",
    "from parallel_RLNN import *"
   ]
  },
  {
   "cell_type": "code",
   "execution_count": null,
   "metadata": {},
   "outputs": [],
   "source": [
    "S0 = 50                                 # Initial stock price\n",
    "K = 50                                  # Strike price\n",
    "mu = 0.06                               # Risk free rate\n",
    "sigma = 0.2                             # Volatility\n",
    "T = 1                                   # Time to maturity\n",
    "N = 4                                   # Number of monitoring dates\n",
    "M = 5000                                # Number of sample paths"
   ]
  },
  {
   "cell_type": "code",
   "execution_count": 2,
   "metadata": {},
   "outputs": [
    {
     "name": "stderr",
     "output_type": "stream",
     "text": [
      "100%|██████████| 10000/10000 [02:51<00:00, 58.19it/s]\n"
     ]
    }
   ],
   "source": [
    "S0 = 50\n",
    "K = 50 \n",
    "mu = 0.06\n",
    "sigma = 0.2\n",
    "T = 1\n",
    "hedge_freq = 52\n",
    "monitoring_dates = np.array([0.25, 0.5, 0.75, 1])\n",
    "hedging_dates = np.linspace(0, T, int(T * hedge_freq) + 1)\n",
    "M = 10000\n",
    "hedging_error = calculate_hedge_error(S0, K, mu, sigma, T, hedge_freq, monitoring_dates, hedging_dates, M)"
   ]
  },
  {
   "cell_type": "code",
   "execution_count": 3,
   "metadata": {},
   "outputs": [
    {
     "data": {
      "image/png": "[encoded data removed]",
      "text/plain": [
       "<Figure size 640x480 with 1 Axes>"
      ]
     },
     "metadata": {},
     "output_type": "display_data"
    }
   ],
   "source": [
    "hedging_error = np.array(hedging_error)\n",
    "plt.hist(hedging_error, bins=50, edgecolor='black')\n",
    "plt.axvline(hedging_error.mean(), color='r', linestyle='dashed', linewidth=1, label=f'Mean: {round(hedging_error.mean(), 3)}')   \n",
    "plt.axvline(hedging_error.mean() + 1.96*hedging_error.std(), color='g', linestyle='dashed', linewidth=1, label=f'Mean + 2*std: {round(hedging_error.mean() + 1.96*hedging_error.std(), 3)}')\n",
    "plt.axvline(hedging_error.mean() -1.96*hedging_error.std(), color='g', linestyle='dashed', linewidth=1, label=f'Mean - 2*std: {round(hedging_error.mean() - 1.96*hedging_error.std(), 3)}') \n",
    "plt.legend()\n",
    "plt.show()"
   ]
  },
  {
   "cell_type": "code",
   "execution_count": null,
   "metadata": {},
   "outputs": [],
   "source": [
    "S0 = 50\n",
    "K = 1.2 * S0\n",
    "mu = 0.06\n",
    "sigma = 0.2\n",
    "T = 1\n",
    "hedge_freq = 52\n",
    "monitoring_dates = np.array([0.25, 0.5, 0.75, 1])\n",
    "hedging_dates = np.linspace(0, T, int(T * hedge_freq) + 1)\n",
    "M = 10000\n",
    "hedging_error_120 = calculate_hedge_error(S0, K, mu, sigma, T, hedge_freq, monitoring_dates, hedging_dates, M)\n"
   ]
  },
  {
   "cell_type": "code",
   "execution_count": null,
   "metadata": {},
   "outputs": [],
   "source": [
    "plt.hist(hedging_error_120, bins=50, edgecolor='black')\n",
    "plt.axvline(hedging_error_120.mean(), color='r', linestyle='dashed', linewidth=1)\n",
    "plt.show()"
   ]
  },
  {
   "cell_type": "code",
   "execution_count": null,
   "metadata": {},
   "outputs": [],
   "source": [
    "S0 = 50\n",
    "K = 0.8 * S0\n",
    "mu = 0.06\n",
    "sigma = 0.2\n",
    "T = 1\n",
    "hedge_freq = 52\n",
    "monitoring_dates = np.array([0.25, 0.5, 0.75, 1])\n",
    "hedging_dates = np.linspace(0, T, int(T * hedge_freq) + 1)\n",
    "M = 10000\n",
    "hedging_error_80 = calculate_hedge_error(S0, K, mu, sigma, T, hedge_freq, monitoring_dates, hedging_dates, M)"
   ]
  },
  {
   "cell_type": "code",
   "execution_count": null,
   "metadata": {},
   "outputs": [],
   "source": [
    "plt.hist(hedging_error_80, bins=50, edgecolor='black')\n",
    "plt.axvline(hedging_error_80.mean(), color='r', linestyle='dashed', linewidth=1)\n",
    "plt.show()"
   ]
  },
  {
   "cell_type": "code",
   "execution_count": null,
   "metadata": {},
   "outputs": [],
   "source": [
    "## Using Numba with 50000 simulations and Hedging frequency of 48\n",
    "plt.hist(hedging_error, bins=50, label='K /S0= 1', color='r', alpha=0.5)\n",
    "plt.axvline(np.mean(hedging_error), color='r', linestyle='dashed', linewidth=1, label='K/S0=1 Mean')\n",
    "plt.hist(hedging_error_80, bins=50, label='K /S0= 0.8', color='b', alpha=0.5)\n",
    "plt.axvline(np.mean(hedging_error_80), color='b', linestyle='dashed', linewidth=1, label='K/S0=0.8 Mean')\n",
    "plt.hist(hedging_error_120, bins=50, label='K /S0= 1.2', color='g', alpha=0.5)\n",
    "plt.axvline(np.mean(hedging_error_120), color='g', linestyle='dashed', linewidth=1, label='K/S0=1.2 Mean')\n",
    "plt.legend()\n",
    "plt.show()"
   ]
  },
  {
   "cell_type": "markdown",
   "metadata": {},
   "source": [
    "### Experiments "
   ]
  },
  {
   "cell_type": "code",
   "execution_count": 3,
   "metadata": {},
   "outputs": [
    {
     "name": "stdout",
     "output_type": "stream",
     "text": [
      "\u001b[1m47/47\u001b[0m \u001b[32m━━━━━━━━━━━━━━━━━━━━\u001b[0m\u001b[37m\u001b[0m \u001b[1m0s\u001b[0m 327us/step\n",
      "Epoch 47: early stopping\n",
      "Restoring model weights from the end of the best epoch: 27.\n",
      "\u001b[1m32/32\u001b[0m \u001b[32m━━━━━━━━━━━━━━━━━━━━\u001b[0m\u001b[37m\u001b[0m \u001b[1m0s\u001b[0m 197us/step\n",
      "Epoch 43: early stopping\n",
      "Restoring model weights from the end of the best epoch: 23.\n",
      "\u001b[1m32/32\u001b[0m \u001b[32m━━━━━━━━━━━━━━━━━━━━\u001b[0m\u001b[37m\u001b[0m \u001b[1m0s\u001b[0m 206us/step\n",
      "Epoch 40: early stopping\n",
      "Restoring model weights from the end of the best epoch: 20.\n",
      "\u001b[1m32/32\u001b[0m \u001b[32m━━━━━━━━━━━━━━━━━━━━\u001b[0m\u001b[37m\u001b[0m \u001b[1m0s\u001b[0m 204us/step\n",
      "Bermudan Price 9.403307847565722\n",
      "[2.9942571747482938e-09, 0.0001704563466277508, 0.000163783578471432, 8.831710720245659e-05]\n"
     ]
    }
   ],
   "source": [
    "\n",
    "## In the money Bermudan put option\n",
    "S0 = 50  # Initial price\n",
    "sigma = 0.2  # Volatility\n",
    "K = 50 * 1.2  # Strike price\n",
    "r = 0.06  # Risk-free rate\n",
    "T = 1.  # Maturity\n",
    "M = 4  # Number of monitoring dates\n",
    "N = 10000  # Number of sample paths\n",
    "nodes = 16 # Number of hidden units\n",
    "style = 'put'  # Payoff type\n",
    "ler_rate = 0.001\n",
    "price, weights, errors = RLNN_Algo(S0, K, r, sigma, N, M, T, style, nodes, ler_rate)\n",
    "print(\"Bermudan Price\", price)\n",
    "print(errors)\n"
   ]
  },
  {
   "cell_type": "code",
   "execution_count": 4,
   "metadata": {},
   "outputs": [],
   "source": [
    "stock_prices = stock_price_simulator(S0, r, sigma, T, M, 10000)\n",
    "hedge_error12 = semi_static_hedging_simulation(stock_prices, weights, r, sigma, T, M, S0, 50 * 1.2, price, nodes)"
   ]
  },
  {
   "cell_type": "code",
   "execution_count": null,
   "metadata": {},
   "outputs": [],
   "source": [
    "## At the money Bermudan put option\n",
    "\n",
    "S0 = 50  # Initial price\n",
    "sigma = 0.2  # Volatility\n",
    "K = 50  # Strike price\n",
    "r = 0.06  # Risk-free rate\n",
    "T = 1.  # Maturity\n",
    "M = 4  # Number of monitoring dates\n",
    "N = 10000  # Number of sample paths\n",
    "nodes = 16 # Number of hidden units\n",
    "style = 'put'  # Payoff type\n",
    "price3, weights3, errors3 = RLNN_Algo(S0, K, r, sigma, N, M, T, style, nodes, ler_rate)\n",
    "print(\"Bermudan Price\", price3)\n",
    "print(errors3)\n",
    "\n",
    "stock_prices = stock_price_simulator(S0, r, sigma, T, M, 10000)\n",
    "hedge_error1 = semi_static_hedging_simulation(stock_prices, weights3, r, sigma, T, M, S0, 50, price3, nodes)"
   ]
  },
  {
   "cell_type": "code",
   "execution_count": null,
   "metadata": {},
   "outputs": [],
   "source": [
    "## Out of the money Bermudan put option\n",
    "S0 = 50  # Initial price\n",
    "sigma = 0.2  # Volatility\n",
    "K = 0.8 * 50  # Strike price\n",
    "r = 0.06  # Risk-free rate\n",
    "T = 1.  # Maturity\n",
    "M = 4  # Number of monitoring dates\n",
    "N = 10000  # Number of sample paths\n",
    "nodes = 16 # Number of hidden units\n",
    "style = 'put'  # Payoff type\n",
    "price2, weights2, errors2 = RLNN_Algo(S0, K, r, sigma, N, M, T, style, nodes, ler_rate)\n",
    "print(\"Bermudan Price\", price2)\n",
    "print(errors2)\n",
    "\n",
    "\n",
    "stock_prices = stock_price_simulator(S0, r, sigma, T, M, 10000)\n",
    "hedge_error08 = semi_static_hedging_simulation(stock_prices, weights2, r, sigma, T, M, S0, 50 * 0.8, price2, nodes)"
   ]
  },
  {
   "cell_type": "code",
   "execution_count": null,
   "metadata": {},
   "outputs": [],
   "source": [
    "plt.hist(hedge_error12,bins=50, edgecolor='black',color='r', alpha=0.7, label='K/S0=1.2')\n",
    "plt.hist(hedge_error08, bins=50, edgecolor='k',color='g',  alpha=0.7, label='K/S0 = 0.8')\n",
    "plt.hist(hedge_error1, bins=50, edgecolor='k', alpha=0.7, label='K/S0 = 1')\n",
    "plt.legend()\n",
    "plt.show()"
   ]
  }
 ],
 "metadata": {
  "kernelspec": {
   "display_name": "base",
   "language": "python",
   "name": "python3"
  },
  "language_info": {
   "codemirror_mode": {
    "name": "ipython",
    "version": 3
   },
   "file_extension": ".py",
   "mimetype": "text/x-python",
   "name": "python",
   "nbconvert_exporter": "python",
   "pygments_lexer": "ipython3",
   "version": "3.11.5"
  }
 },
 "nbformat": 4,
 "nbformat_minor": 2
}
