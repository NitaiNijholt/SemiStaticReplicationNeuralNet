{
 "cells": [
  {
   "cell_type": "code",
   "execution_count": 1,
   "metadata": {},
   "outputs": [],
   "source": [
    "from tensorflow.keras.optimizers import Adam\n",
    "from tensorflow.keras.callbacks import EarlyStopping\n",
    "from sklearn.model_selection import train_test_split\n",
    "from parallel_RLNN import *\n",
    "import matplotlib.pyplot as plt \n",
    "import tensorflow as tf\n"
   ]
  },
  {
   "cell_type": "code",
   "execution_count": 2,
   "metadata": {},
   "outputs": [],
   "source": [
    "S0 = 50\n",
    "K = 50 * 1.2\n",
    "r = 0.06\n",
    "vol = 0.2\n",
    "T = 1\n",
    "no_mon = 4\n",
    "sample_size = 25000\n",
    "N = no_mon\n",
    "style = 'put'"
   ]
  },
  {
   "cell_type": "code",
   "execution_count": null,
   "metadata": {},
   "outputs": [],
   "source": [
    "\n",
    "stock_paths = stock_price_simulator(S0, r, vol, T, no_mon, sample_size)\n",
    "## Initialize the option price matrix\n",
    "option_price = np.zeros(stock_paths.shape)\n",
    "## Calculate the option price at the maturity date\n",
    "option_price[:, N] = payoff_fun(stock_paths[:, N], K, style)\n",
    "payoff_T = payoff_fun(stock_paths[:, N], K, style)\n",
    "    \n",
    "## Normalize the stock prices\n",
    "normalizer = S0\n",
    "normalized_stock_paths = stock_paths[:, N]/normalizer"
   ]
  },
  {
   "cell_type": "code",
   "execution_count": null,
   "metadata": {},
   "outputs": [],
   "source": [
    "no_hidden_units = 16\n",
    "l_rate2 = 0.001\n",
    "## X_train and y_train for the neural network\n",
    "X = normalized_stock_paths.reshape(-1, 1)\n",
    "y = payoff_T.reshape(-1, 1)\n",
    "X_train, X_test, y_train, y_test = train_test_split(X, y, test_size=0.3, random_state=42)\n",
    "# Compile the model\n",
    "es = EarlyStopping(monitor='val_loss', mode='min', patience=5)\n",
    "tf.keras.utils.set_random_seed(42)\n",
    "model2 = create_shallow_NN(1, no_hidden_units)\n",
    "model2.compile(loss='mean_squared_error', optimizer=Adam(l_rate2))\n",
    "## Train the model  \n",
    "model2.fit(X_train, y_train, epochs=3000, batch_size=int(0.1 * X_train.shape[0]), \n",
    "            validation_data=(X_test, y_test), callbacks=[es], verbose = 1)\n",
    "\n",
    "# Test the model\n",
    "y_hat_val = model2.predict(X_test)"
   ]
  },
  {
   "cell_type": "code",
   "execution_count": null,
   "metadata": {},
   "outputs": [],
   "source": [
    "print(\"Error\", (np.mean((y_test - y_hat_val)**2)))"
   ]
  },
  {
   "cell_type": "code",
   "execution_count": null,
   "metadata": {},
   "outputs": [],
   "source": [
    "\n",
    "X_test_sorted_indices = np.argsort(X_test.flatten())  # Get the indices that sort X_test\n",
    "X_test_sorted = X_test.flatten()[X_test_sorted_indices]  # Sort X_test\n",
    "y_test_sorted = y_test[X_test_sorted_indices]  # Reorder y_test accordingly\n",
    "y_hat_val_sorted = y_hat_val[X_test_sorted_indices]  # Reorder y_hat_val accordingly\n",
    "\n",
    "# Plot\n",
    "plt.figure(figsize=(8, 6))\n",
    "plt.plot(X_test_sorted * S0, y_test_sorted, color='blue', label='True payoff', linewidth=2)\n",
    "plt.plot(X_test_sorted * S0, y_hat_val_sorted, color='red', label='Predicted payoff', linestyle='dashed', linewidth=2)\n",
    "plt.xlabel('Stock price')\n",
    "plt.ylabel('Option price')\n",
    "plt.legend()\n",
    "plt.title('True vs Predicted Option Payoff')\n",
    "plt.grid(True)\n",
    "plt.show()\n"
   ]
  },
  {
   "cell_type": "code",
   "execution_count": null,
   "metadata": {},
   "outputs": [],
   "source": [
    "### Store the weights of the model\n",
    "weights = []\n",
    "weights.append(model2.get_weights())\n",
    "\n",
    "## Get the weights of the model\n",
    "w1 = model2.layers[0].get_weights()[0].reshape(-1)\n",
    "b1 = model2.layers[0].get_weights()[1].reshape(-1)\n",
    "w2 = model2.layers[1].get_weights()[0].reshape(-1)\n",
    "b2 = model2.layers[1].get_weights()[1].reshape(-1)\n",
    "\n",
    "## Calculate the continuation value \n",
    "continuation_value = cal_continuation_value(w1, b1, w2, b2, no_hidden_units, stock_paths[:, N-1], r, vol, T/N, sample_size, normalizer)\n",
    "              # Payoff at the previous monitoring date   "
   ]
  },
  {
   "cell_type": "code",
   "execution_count": null,
   "metadata": {},
   "outputs": [],
   "source": [
    "fun_h = payoff_fun(stock_paths[:, N-1], K, style) "
   ]
  },
  {
   "cell_type": "code",
   "execution_count": null,
   "metadata": {},
   "outputs": [],
   "source": [
    "target_variable = np.maximum(fun_h - continuation_value, 0)"
   ]
  },
  {
   "cell_type": "code",
   "execution_count": null,
   "metadata": {},
   "outputs": [],
   "source": [
    "plt.scatter(stock_paths[:, N-1], continuation_value, color = 'blue', label = 'continuation_value')\n",
    "plt.scatter(stock_paths[:, N-1], fun_h, color = 'red', label = 'payoff')\n",
    "plt.legend()\n"
   ]
  },
  {
   "cell_type": "code",
   "execution_count": null,
   "metadata": {},
   "outputs": [],
   "source": [
    "plt.figure(figsize=(6, 4))\n",
    "plt.scatter(stock_paths[:, N-1], target_variable, color = 'blue', label = 'target_variable')\n",
    "plt.xlabel('Stock price')\n",
    "plt.ylabel('Pay off - continuation value')\n",
    "plt.legend()\n",
    "#plt.savefig('target_variable_static.jpeg')\n",
    "plt.show()\n"
   ]
  },
  {
   "cell_type": "code",
   "execution_count": null,
   "metadata": {},
   "outputs": [],
   "source": [
    "## Normalize the stock prices\n",
    "normalizer = S0\n",
    "normalized_stock_paths = stock_paths[:, N-1]/normalizer\n",
    "X = normalized_stock_paths.reshape(-1, 1)\n",
    "y = target_variable.reshape(-1, 1)\n",
    "X_train, X_test, y_train, y_test = train_test_split(X, y, test_size=0.3, random_state = 42)\n",
    "# Compile the model\n"
   ]
  },
  {
   "cell_type": "code",
   "execution_count": null,
   "metadata": {},
   "outputs": [],
   "source": [
    "def create_shallow_NN2(input_dim, hidden_units):\n",
    "    \n",
    "    model = Sequential()\n",
    "    # Use Input layer for specifying input shape\n",
    "    model.add(Input(shape=(input_dim,)))\n",
    "    model.add(Dense(hidden_units, activation='relu', kernel_initializer='random_uniform', bias_initializer='random_uniform'))\n",
    "    model.add(Dense(1, activation='linear', kernel_initializer='random_normal', bias_initializer='random_uniform'))\n",
    "    \n",
    "    return model\n",
    "\n",
    "# Keep existing weights but train with smaller learning rate and batch size\n",
    "#tf.keras.utils.set_random_seed(42)\n",
    "model3 = create_shallow_NN2(1, no_hidden_units)\n",
    "model3.compile(optimizer=Adam(learning_rate=0.001), loss='mean_squared_error')\n",
    "model3.optimizer.learning_rate.assign(5e-4)  # Reduced from 5e-3\n",
    "\n",
    "history = model3.fit(\n",
    "    X_train, y_train,\n",
    "    validation_data=(X_test, y_test),\n",
    "    epochs=3000,\n",
    "    batch_size=50,  # Reduced from 8\n",
    "    callbacks=[EarlyStopping(monitor='val_loss', mode='min', patience=20, restore_best_weights=True, min_delta=1e-7)],\n",
    "    verbose=1\n",
    ")"
   ]
  },
  {
   "cell_type": "code",
   "execution_count": null,
   "metadata": {},
   "outputs": [],
   "source": [
    "X_test_sorted_indices = np.argsort(X_test.flatten())  # Get the indices that sort X_test\n",
    "X_test_sorted = X_test.flatten()[X_test_sorted_indices]  # Sort X_test\n",
    "y_hat = model3.predict(X_test)\n",
    "y_test_sorted = y_test[X_test_sorted_indices]  # Reorder y_test accordingly\n",
    "  # Reorder y_hat_val accordingly\n",
    "y_hat_sorted = y_hat[X_test_sorted_indices]\n",
    "# Plot\n",
    "plt.figure(figsize=(6, 4), dpi=200)\n",
    "plt.scatter(X_test * S0, y_test, color='blue', label='True payoff', linewidth=2)\n",
    "plt.plot(X_test_sorted * S0, y_hat_sorted, color='red', label='Predicted payoff', linestyle='dashed', linewidth=2)\n",
    "plt.xlabel('Stock price')\n",
    "plt.ylabel('Target Value')\n",
    "plt.legend()\n",
    "#plt.grid(True)\n",
    "#plt.rc('font', size=14)\n",
    "plt.savefig('static_hedge_prevDate.jpeg')\n",
    "plt.show()\n"
   ]
  },
  {
   "cell_type": "code",
   "execution_count": null,
   "metadata": {},
   "outputs": [],
   "source": [
    "w1 = model3.layers[0].get_weights()[0].reshape(-1)\n",
    "b1 = model3.layers[0].get_weights()[1].reshape(-1)\n",
    "w2 = model3.layers[1].get_weights()[0].reshape(-1)\n",
    "b2 = model3.layers[1].get_weights()[1].reshape(-1)\n",
    "dt = 2 * T/N\n",
    "new_continuation_val = cal_continuation_value(w1, b1, w2, b2, no_hidden_units, stock_paths[:, N-2], r, vol, dt , sample_size, normalizer)\n",
    "dt = 1 * T/N\n",
    "w1 = weights[0][0].reshape(-1)\n",
    "b1 = weights[0][1].reshape(-1)\n",
    "w2 = weights[0][2].reshape(-1)\n",
    "b2 = weights[0][3].reshape(-1)\n",
    "cont_value2 = cal_continuation_value(w1, b1, w2, b2, no_hidden_units, stock_paths[:, N-2], r, vol, dt, sample_size, normalizer)"
   ]
  },
  {
   "cell_type": "code",
   "execution_count": null,
   "metadata": {},
   "outputs": [],
   "source": [
    "weights.append(model3.get_weights())"
   ]
  },
  {
   "cell_type": "code",
   "execution_count": null,
   "metadata": {},
   "outputs": [],
   "source": [
    "payoff_h = payoff_fun(stock_paths[:, N-2], K, style)"
   ]
  },
  {
   "cell_type": "code",
   "execution_count": null,
   "metadata": {},
   "outputs": [],
   "source": [
    "new_target_variable = np.maximum(payoff_h - new_continuation_val - cont_value2, 0)"
   ]
  },
  {
   "cell_type": "code",
   "execution_count": null,
   "metadata": {},
   "outputs": [],
   "source": [
    "plt.scatter(stock_paths[:, N-2], new_continuation_val + cont_value2, color = 'blue', label = 'Continuation value')\n",
    "plt.scatter(stock_paths[:, N-2], payoff_h, color = 'red', label = 'Payoff')\n",
    "plt.legend()\n",
    "plt.show()\n"
   ]
  },
  {
   "cell_type": "code",
   "execution_count": null,
   "metadata": {},
   "outputs": [],
   "source": [
    "plt.scatter(stock_paths[:, N-2], new_target_variable, color = 'green', label = 'Target variable')"
   ]
  },
  {
   "cell_type": "code",
   "execution_count": null,
   "metadata": {},
   "outputs": [],
   "source": [
    "new_continuation_val2 = new_continuation_val + cont_value2"
   ]
  },
  {
   "cell_type": "code",
   "execution_count": null,
   "metadata": {},
   "outputs": [],
   "source": [
    "fun_h2 = payoff_fun(stock_paths[:, N-2], K, style)               # Payoff at the previous monitoring date"
   ]
  },
  {
   "cell_type": "code",
   "execution_count": null,
   "metadata": {},
   "outputs": [],
   "source": [
    "target_variable = np.maximum(fun_h2, new_continuation_val2) - new_continuation_val2"
   ]
  },
  {
   "cell_type": "code",
   "execution_count": null,
   "metadata": {},
   "outputs": [],
   "source": [
    "plt.scatter(stock_paths[:, N-2], target_variable, color = 'red', label = 'Target variable')"
   ]
  },
  {
   "cell_type": "code",
   "execution_count": null,
   "metadata": {},
   "outputs": [],
   "source": [
    "## Normalize the stock prices\n",
    "normalizer = S0\n",
    "normalized_stock_paths = stock_paths[:, N-2]/normalizer\n",
    "X = normalized_stock_paths.reshape(-1, 1)\n",
    "y = target_variable.reshape(-1, 1)\n",
    "X_train, X_test, y_train, y_test = train_test_split(X, y, test_size=0.3, random_state=42)"
   ]
  },
  {
   "cell_type": "code",
   "execution_count": null,
   "metadata": {},
   "outputs": [],
   "source": [
    "plt.scatter(X_train, y_train, color = 'blue', label = 'Training data')\n",
    "plt.scatter(X_test, y_test, color = 'red', label = 'Test data')\n",
    "plt.legend()\n",
    "plt.show()"
   ]
  },
  {
   "cell_type": "code",
   "execution_count": null,
   "metadata": {},
   "outputs": [],
   "source": [
    "history = model3.fit(\n",
    "    X_train, y_train,\n",
    "    validation_data=(X_test, y_test),\n",
    "    epochs=3000,\n",
    "    batch_size=50,  # Reduced from 8\n",
    "    callbacks=[EarlyStopping(monitor='val_loss', mode='min', patience=20, restore_best_weights=True, min_delta=1e-6)],\n",
    "    verbose=1\n",
    ")"
   ]
  },
  {
   "cell_type": "code",
   "execution_count": null,
   "metadata": {},
   "outputs": [],
   "source": [
    "y_hat_val = model3.predict(X_test)\n",
    "plt.scatter(X_test*S0, y_test, color = 'blue', label = 'True payoff')\n",
    "plt.scatter(X_test*S0, y_hat_val, color = 'red', label = 'Predicted payoff')\n",
    "plt.legend()\n",
    "plt.show()"
   ]
  },
  {
   "cell_type": "code",
   "execution_count": null,
   "metadata": {},
   "outputs": [],
   "source": [
    "weights.append(model3.get_weights())"
   ]
  },
  {
   "cell_type": "code",
   "execution_count": null,
   "metadata": {},
   "outputs": [],
   "source": [
    "dt = 3 * T/N\n",
    "w1 = weights[0][0].reshape(-1)\n",
    "b1 = weights[0][1].reshape(-1)\n",
    "w2 = weights[0][2].reshape(-1)\n",
    "b2 = weights[0][3].reshape(-1)\n",
    "cont_value3 = cal_continuation_value(w1, b1, w2, b2, no_hidden_units, stock_paths[:, N-3], r, vol, dt, sample_size, normalizer)\n",
    "dt = 2 * T/N\n",
    "w1 = weights[1][0].reshape(-1)\n",
    "b1 = weights[1][1].reshape(-1)\n",
    "w2 = weights[1][2].reshape(-1)\n",
    "b2 = weights[1][3].reshape(-1)\n",
    "cont_value2 = cal_continuation_value(w1, b1, w2, b2, no_hidden_units, stock_paths[:, N-3], r, vol, dt, sample_size, normalizer)\n",
    "dt = 1 * T/N\n",
    "w1 = weights[2][0].reshape(-1)\n",
    "b1 = weights[2][1].reshape(-1)\n",
    "w2 = weights[2][2].reshape(-1)\n",
    "b2 = weights[2][3].reshape(-1)\n",
    "cont_value1 = cal_continuation_value(w1, b1, w2, b2, no_hidden_units, stock_paths[:, N-3], r, vol, dt, sample_size, normalizer)\n",
    "\n",
    "continuation_value_3 = cont_value3 + cont_value2 + cont_value1"
   ]
  },
  {
   "cell_type": "code",
   "execution_count": null,
   "metadata": {},
   "outputs": [],
   "source": [
    "fun_h3 = payoff_fun(stock_paths[:, N-3], K, style)               # Payoff at the previous monitoring date"
   ]
  },
  {
   "cell_type": "code",
   "execution_count": null,
   "metadata": {},
   "outputs": [],
   "source": [
    "plt.scatter(stock_paths[:, N-3], continuation_value_3, color = 'blue', label = 'Continuation value')\n",
    "plt.scatter(stock_paths[:, N-3], fun_h3, color = 'red', label = 'Payoff')\n",
    "plt.legend()\n",
    "plt.show()"
   ]
  },
  {
   "cell_type": "code",
   "execution_count": null,
   "metadata": {},
   "outputs": [],
   "source": [
    "target_variable3 = np.maximum(fun_h3, continuation_value_3) - continuation_value_3"
   ]
  },
  {
   "cell_type": "code",
   "execution_count": null,
   "metadata": {},
   "outputs": [],
   "source": [
    "plt.figure(figsize=(12, 6))\n",
    "plt.scatter(stock_paths[:, N-3], target_variable3, color = 'red', label = 'Target variable')\n",
    "plt.xlabel('Stock price')\n",
    "plt.ylabel('Pay off - continuation value')\n",
    "plt.legend()\n",
    "plt.savefig('target_variable_static.jpeg')\n",
    "plt.show()"
   ]
  },
  {
   "cell_type": "code",
   "execution_count": null,
   "metadata": {},
   "outputs": [],
   "source": [
    "normalized_stock_paths = stock_paths[:, N-3]/normalizer\n",
    "X = normalized_stock_paths.reshape(-1, 1)\n",
    "y = target_variable3.reshape(-1, 1)\n",
    "X_train, X_test, y_train, y_test = train_test_split(X, y, test_size=0.3, random_state = 42)"
   ]
  },
  {
   "cell_type": "code",
   "execution_count": null,
   "metadata": {},
   "outputs": [],
   "source": [
    "plt.scatter(X_train, y_train, color = 'blue', label = 'Training data')\n",
    "plt.scatter(X_test, y_test, color = 'red', label = 'Test data')\n",
    "plt.legend()\n",
    "plt.show()"
   ]
  },
  {
   "cell_type": "code",
   "execution_count": null,
   "metadata": {},
   "outputs": [],
   "source": [
    "#model3 = create_shallow_NN2(1, no_hidden_units)\n",
    "#model3.compile(optimizer=Adam(learning_rate=0.001), loss='mean_squared_error')\n",
    "#model3.optimizer.learning_rate.assign(5e-4)  # Reduced from 5e-3\n",
    "#tf.keras.utils.set_random_seed(42)\n",
    "history = model3.fit(\n",
    "    X_train, y_train,\n",
    "    validation_data=(X_test, y_test),\n",
    "    epochs=3000,\n",
    "    batch_size=50,  # Reduced from 8\n",
    "    callbacks=[EarlyStopping(monitor='val_loss', mode='min', patience=20, restore_best_weights=True, min_delta=1e-5)],\n",
    "    verbose=1\n",
    ")"
   ]
  },
  {
   "cell_type": "code",
   "execution_count": null,
   "metadata": {},
   "outputs": [],
   "source": [
    "weights.append(model3.get_weights())"
   ]
  },
  {
   "cell_type": "code",
   "execution_count": null,
   "metadata": {},
   "outputs": [],
   "source": [
    "dt = 4 * T/N\n",
    "w1 = weights[0][0].reshape(-1)\n",
    "b1 = weights[0][1].reshape(-1)\n",
    "w2 = weights[0][2].reshape(-1)\n",
    "b2 = weights[0][3].reshape(-1)\n",
    "cont_value_41 = cal_continuation_value(w1, b1, w2, b2, no_hidden_units, stock_paths[:, N-4], r, vol, dt, sample_size, normalizer)\n",
    "dt = 3 * T/N\n",
    "w1 = weights[1][0].reshape(-1)\n",
    "b1 = weights[1][1].reshape(-1)\n",
    "w2 = weights[1][2].reshape(-1)\n",
    "b2 = weights[1][3].reshape(-1)\n",
    "cont_value_42 = cal_continuation_value(w1, b1, w2, b2, no_hidden_units, stock_paths[:, N-4], r, vol, dt, sample_size, normalizer)\n",
    "dt = 2 * T/N\n",
    "w1 = weights[2][0].reshape(-1)\n",
    "b1 = weights[2][1].reshape(-1)\n",
    "w2 = weights[2][2].reshape(-1)\n",
    "b2 = weights[2][3].reshape(-1)\n",
    "cont_value_43 = cal_continuation_value(w1, b1, w2, b2, no_hidden_units, stock_paths[:, N-4], r, vol, dt, sample_size, normalizer)\n",
    "dt = 1 * T/N\n",
    "w1 = weights[3][0].reshape(-1)\n",
    "b1 = weights[3][1].reshape(-1)\n",
    "w2 = weights[3][2].reshape(-1)\n",
    "b2 = weights[3][3].reshape(-1)\n",
    "cont_value_44 = cal_continuation_value(w1, b1, w2, b2, no_hidden_units, stock_paths[:, N-4], r, vol, dt, sample_size, normalizer)"
   ]
  },
  {
   "cell_type": "code",
   "execution_count": null,
   "metadata": {},
   "outputs": [],
   "source": [
    "option_price = cont_value_41 + cont_value_42 + cont_value_43 + cont_value_44"
   ]
  },
  {
   "cell_type": "code",
   "execution_count": null,
   "metadata": {},
   "outputs": [],
   "source": [
    "option_price"
   ]
  },
  {
   "cell_type": "code",
   "execution_count": null,
   "metadata": {},
   "outputs": [],
   "source": [
    "weights"
   ]
  },
  {
   "cell_type": "code",
   "execution_count": null,
   "metadata": {},
   "outputs": [],
   "source": [
    "def cal_continuation_value2(weights, no_hidden_units, stock_prices, r, sigma, dt, normalizer):\n",
    "    \"\"\" Calculate the continuation value of the Bermudan option\n",
    "\n",
    "    Args:\n",
    "        w1 (array): Weights of the first layer\n",
    "        b1 (array): Biases of the first layer\n",
    "        w2 (array): Weights of the second layer\n",
    "        b2 (float): Biases of the second layer\n",
    "        no_hidden_units (int): Number of hidden units\n",
    "        stock_prices (float): Stock prices at time\n",
    "        r (float): Risk free rate\n",
    "        sigma (float): volatility\n",
    "        dt (_type_): time step\n",
    "        M (_type_): number of simulations(samples)\n",
    "        normalizer (_type_): normalizer for the stock prices\n",
    "\n",
    "    Returns:\n",
    "        _type_: _description_\n",
    "    \"\"\"\n",
    "     ## Get the weights of the model\n",
    "    w1 = weights[0].reshape(-1)\n",
    "    b1 = weights[1].reshape(-1)\n",
    "    w2 = weights[2].reshape(-1)\n",
    "    b2 = weights[3].reshape(-1)\n",
    "    normalized_stock_values = stock_prices/normalizer\n",
    "    continuation_value = 0\n",
    "    for i in range(no_hidden_units):\n",
    "        continuation_value += expected_value(w1[i], b1[i], normalized_stock_values, r, sigma, dt) * w2[i]\n",
    "        #print(continuation_value)\n",
    "    continuation_value += b2\n",
    "    \n",
    "    return continuation_value * np.exp(-r*dt)"
   ]
  },
  {
   "cell_type": "code",
   "execution_count": null,
   "metadata": {},
   "outputs": [],
   "source": [
    "def cal_continuation_value_static(weights_, stock_price, r, vol, dt, S0, no_hidden_units):\n",
    "    conti_val = 0\n",
    "    for i in range(1, len(weights_)+1):\n",
    "        #print(\"i\", i, dt)\n",
    "        conti_val += cal_continuation_value2(weights_[-i], no_hidden_units, stock_price, r, vol, dt, S0)\n",
    "        dt += T/N\n",
    "    return conti_val"
   ]
  },
  {
   "cell_type": "code",
   "execution_count": null,
   "metadata": {},
   "outputs": [],
   "source": [
    "def check_payoffs(stock_price, weights, S0):\n",
    "    \"\"\"\n",
    "    Given a single stock_price, compute the total \n",
    "    payoff implied by the 2-layer NN with piecewise logic.\n",
    "    \n",
    "    :param stock_price:  current price of the underlying (float)\n",
    "    :param weights:      a tuple/list containing \n",
    "                         [weights_layer1, bias_layer1, weights_layer2, bias_layer2]\n",
    "    :param S0:           normalizing constant (e.g. initial stock price)\n",
    "    :return:             total payoff (float)\n",
    "    \"\"\"\n",
    "    payoffs = 0.0\n",
    "    \n",
    "    # Extract layers\n",
    "    weights_layer1 = weights[0].flatten()  # array of w1_i\n",
    "    bias_layer1    = weights[1]  # array of b1_i\n",
    "    weights_layer2 = weights[2].flatten()  # array of w2_i\n",
    "    bias_layer2    = weights[3][0]  # float or array of length 1\n",
    "\n",
    "    # Normalize\n",
    "    normalized_stock = stock_price / S0\n",
    "    \n",
    "    # Start from second-layer bias\n",
    "    # (if bias_layer2 is an array, do bias_layer2[0])\n",
    "    payoffs = bias_layer2\n",
    "\n",
    "    # Loop over all first-layer neurons\n",
    "    for i in range(len(weights_layer1)):\n",
    "        w1i = weights_layer1[i]\n",
    "        b1i = bias_layer1[i]\n",
    "        w2i = weights_layer2[i]\n",
    "\n",
    "        # Case 1: w1 >= 0, b1 >= 0 => Forward contract\n",
    "        if w1i >= 0 and b1i >= 0:\n",
    "            payoffs += w2i * (w1i * normalized_stock + b1i)\n",
    "\n",
    "        # Case 2: w1 > 0, b1 < 0 => call-like payoff\n",
    "        elif w1i > 0 and b1i < 0:\n",
    "            strike_call = -b1i / w1i\n",
    "            call_payoff = max(normalized_stock - strike_call, 0)\n",
    "            payoffs += w2i * w1i * call_payoff\n",
    "\n",
    "        # Case 3: w1 < 0, b1 > 0 => put-like payoff\n",
    "        elif w1i < 0 and b1i > 0:\n",
    "            strike_put = -b1i / w1i\n",
    "            put_payoff = max(strike_put - normalized_stock, 0)\n",
    "            payoffs -= w2i * w1i * put_payoff\n",
    "\n",
    "        else:\n",
    "            # The \"else\" might be w1 <= 0, b1 <= 0 => payoff is effectively 0\n",
    "            0.0\n",
    "\n",
    "    return payoffs\n"
   ]
  },
  {
   "cell_type": "code",
   "execution_count": null,
   "metadata": {},
   "outputs": [],
   "source": [
    "sample_size = 10000\n",
    "stock_prices_hedging = stock_price_simulator(S0, r, vol, T, no_mon, sample_size)\n",
    "stock_prices_hedging.shape"
   ]
  },
  {
   "cell_type": "code",
   "execution_count": null,
   "metadata": {},
   "outputs": [],
   "source": [
    "M = sample_size\n",
    "hedging_errors = np.zeros(sample_size)\n",
    "for i in range(sample_size):\n",
    "    cash_account = option_price[0]\n",
    "    # Initial portfolio setup\n",
    "    weights_now = weights\n",
    "    dt = T/no_mon\n",
    "    cash_account -= cal_continuation_value_static(weights_now, stock_prices_hedging[i][0], r, vol, dt, S0, no_hidden_units)\n",
    "    #print(cash_account)\n",
    "    for j in range(1, no_mon):\n",
    "        cash_account *= np.exp(r * dt)\n",
    "        Exercise_value = payoff_fun(stock_prices_hedging[i, j], K, \"put\")\n",
    "        weights_next = weights_now[:no_mon-j]\n",
    "        #print(\"weights_next\", len(weights_next))\n",
    "        cont_value = cal_continuation_value_static(weights_next, stock_prices_hedging[i, j], r, vol, dt, S0, no_hidden_units)  \n",
    "        \n",
    "        if Exercise_value > cont_value:\n",
    "            #print(\"Exercise\", weights_now, \"at time\", j)\n",
    "            weights_excercise = weights_now[-1]\n",
    "            payoff_j = check_payoffs(stock_prices_hedging[i, j], weights_excercise, S0) + cont_value\n",
    "            cash_account += payoff_j\n",
    "            weights_now = weights_next\n",
    "            #print(\"Exercise\", cash_account, Exercise_value, \"Hedge error at\", i, cash_account - Exercise_value)\n",
    "            hedging_errors[i] = cash_account - Exercise_value\n",
    "            break\n",
    "        weights_now = weights_next\n",
    "    else:\n",
    "        cash_account *= np.exp(r * dt)\n",
    "        #print(\"weights_now\", weights_now)\n",
    "        portfolio_t = check_payoffs(stock_prices_hedging[i, j], weights_now[0], S0)\n",
    "        cash_account += portfolio_t\n",
    "        payoff_T = payoff_fun(stock_prices_hedging[i, j], K, \"put\")\n",
    "        hedging_errors[i] = cash_account - payoff_T"
   ]
  },
  {
   "cell_type": "code",
   "execution_count": null,
   "metadata": {},
   "outputs": [],
   "source": [
    "hedging_errors_ATM = hedging_errors"
   ]
  },
  {
   "cell_type": "code",
   "execution_count": null,
   "metadata": {},
   "outputs": [],
   "source": [
    "len(hedging_errors)"
   ]
  },
  {
   "cell_type": "code",
   "execution_count": null,
   "metadata": {},
   "outputs": [],
   "source": [
    "dict_hedging_errors = {\"ATM\": hedging_errors_ATM}"
   ]
  },
  {
   "cell_type": "code",
   "execution_count": null,
   "metadata": {},
   "outputs": [],
   "source": [
    "df = pd.DataFrame(dict_hedging_errors)\n",
    "df.to_csv(\"hedging_errors_static_ATM.csv\")"
   ]
  },
  {
   "cell_type": "code",
   "execution_count": null,
   "metadata": {},
   "outputs": [],
   "source": [
    "hedging_errors_12 = pd.read_csv(\"hedging_errors_static_12.csv\")"
   ]
  },
  {
   "cell_type": "code",
   "execution_count": null,
   "metadata": {},
   "outputs": [],
   "source": [
    "hedging_errors_ATM = pd.read_csv(\"hedging_errors_static_ATM.csv\")"
   ]
  },
  {
   "cell_type": "code",
   "execution_count": null,
   "metadata": {},
   "outputs": [],
   "source": [
    "hedging_errors_08 = pd.read_csv(\"hedging_errors_static_08.csv\")"
   ]
  },
  {
   "cell_type": "code",
   "execution_count": null,
   "metadata": {},
   "outputs": [],
   "source": [
    "hedge_error_OTM = hedging_errors_08[\"08\"] "
   ]
  },
  {
   "cell_type": "code",
   "execution_count": null,
   "metadata": {},
   "outputs": [],
   "source": [
    "#hedge_error_OTM = hedge_error_OTM[:9999]"
   ]
  },
  {
   "cell_type": "code",
   "execution_count": null,
   "metadata": {},
   "outputs": [],
   "source": [
    "hedging_errors_12[\"12\"]"
   ]
  },
  {
   "cell_type": "code",
   "execution_count": null,
   "metadata": {},
   "outputs": [],
   "source": [
    "import numpy as np\n",
    "import matplotlib.pyplot as plt \n",
    "from scipy import stats"
   ]
  },
  {
   "cell_type": "code",
   "execution_count": null,
   "metadata": {},
   "outputs": [],
   "source": [
    "# Helper function to calculate confidence intervals\n",
    "def calculate_confidence_interval(data, confidence=0.95):\n",
    "    mean = np.mean(data)\n",
    "    std_error = stats.sem(data)  # Standard error of the mean\n",
    "    margin = std_error * stats.t.ppf((1 + confidence) / 2, len(data) - 1)\n",
    "    return mean, mean - margin, mean + margin"
   ]
  },
  {
   "cell_type": "code",
   "execution_count": null,
   "metadata": {},
   "outputs": [],
   "source": [
    "# Calculate mean and confidence intervals for each dataset\n",
    "otm_mean, otm_lower, otm_upper = calculate_confidence_interval(hedge_error_OTM)\n",
    "atm_mean, atm_lower, atm_upper = calculate_confidence_interval(hedging_errors_ATM[\"ATM\"])\n",
    "itm_mean, itm_lower, itm_upper = calculate_confidence_interval(hedging_errors_12[\"12\"])\n"
   ]
  },
  {
   "cell_type": "code",
   "execution_count": null,
   "metadata": {},
   "outputs": [],
   "source": [
    "# Plotting\n",
    "plt.figure(dpi=500, figsize=(6, 4))\n",
    "plt.hist(hedge_error_OTM, edgecolor='black', bins=50, label='OTM', alpha=0.7)\n",
    "plt.axvline(otm_mean, linestyle='--')\n",
    "plt.axvline(otm_lower, linestyle=':')\n",
    "plt.axvline(otm_upper, linestyle=':')\n",
    "plt.hist(hedging_errors_ATM[\"ATM\"], edgecolor='black', bins=50, label='ATM', alpha=0.7)\n",
    "plt.axvline(atm_mean, linestyle='--')\n",
    "plt.axvline(atm_lower, linestyle=':')\n",
    "plt.axvline(atm_upper, linestyle=':')\n",
    "plt.hist(hedging_errors_12[\"12\"], edgecolor='black', bins=50, label='ATM', alpha=0.7)\n",
    "plt.axvline(itm_mean, color='orange', linestyle='--')\n",
    "plt.axvline(itm_lower,color='orange',  linestyle=':')\n",
    "plt.axvline(itm_upper,color='orange', linestyle=':')"
   ]
  },
  {
   "cell_type": "code",
   "execution_count": null,
   "metadata": {},
   "outputs": [],
   "source": [
    "#plt.hist(hedging_errors_ATM, bins=60, alpha=0.7, label='ATM', edgecolor='black')\n",
    "#plt.hist(hedging_errors_08, bins=60, alpha=0.75, label='K=0.8*S0', edgecolor='black')\n",
    "#plt.hist(hedging_errors_12, bins=60, alpha=0.75, label='K=1.2*S0')\n",
    "#plt.legend()\n",
    "#plt.xlabel('Hedging error')\n",
    "#plt.ylabel('Frequency')\n",
    "#plt.savefig('Static_hedging_error.jpeg')\n",
    "#plt.show()"
   ]
  },
  {
   "cell_type": "code",
   "execution_count": null,
   "metadata": {},
   "outputs": [],
   "source": [
    "\n",
    "# Plot function for individual axes\n",
    "def plot_with_percentile_ci(ax, data_rlnn, data_bin, data_3, xlabel):\n",
    "    mean_otm = np.mean(data_rlnn)\n",
    "    ci_otm = (np.percentile(data_rlnn, 2.5), np.percentile(data_rlnn, 97.5))\n",
    "    mean_atm = np.mean(data_bin)\n",
    "    ci_atm = (np.percentile(data_bin, 2.5), np.percentile(data_bin, 97.5))\n",
    "    mean_itm = np.mean(data_3)\n",
    "    ci_itm = (np.percentile(data_3, 2.5), np.percentile(data_bin, 97.5))\n",
    "\n",
    "    # Plot data\n",
    "    ax.hist(data_rlnn, bins=50, alpha=0.5, color='blue', edgecolor='black', label='OTM')\n",
    "    ax.hist(data_bin, bins=50, alpha=0.5, color='orange', edgecolor='black', label='ATM')\n",
    "    ax.hist(data_3, bins=50, alpha=0.5, color='green', edgecolor='black', label='ITM')\n",
    "    ax.axvline(x=mean_otm, color='blue', linestyle='--', label='OTM Mean')\n",
    "    ax.axvline(x=mean_atm, color='orange', linestyle='--', label='ATM Mean')\n",
    "    ax.axvline(x=mean_itm, color='green', linestyle='--', label='ITM Mean')\n",
    "    ax.axvspan(ci_otm[0], ci_otm[1], color='blue', alpha=0.2)\n",
    "    ax.axvspan(ci_atm[0], ci_atm[1], color='orange', alpha=0.2)\n",
    "    ax.axvspan(ci_itm[0], ci_itm[1], color='green', alpha=0.2)\n",
    "    ax.set_xlabel(xlabel)\n",
    "    ax.set_ylabel(\"Frequency\")\n",
    "    ax.legend()\n",
    "\n"
   ]
  },
  {
   "cell_type": "code",
   "execution_count": null,
   "metadata": {},
   "outputs": [],
   "source": []
  },
  {
   "cell_type": "code",
   "execution_count": null,
   "metadata": {},
   "outputs": [],
   "source": [
    "# Generate individual subplots\n",
    "# Plot histograms comparing RLNN vs. Binomial for each strike ratio with 95% Percentile CI\n",
    "fig, axes = plt.subplots(1, 1, figsize=(6, 4), sharey=True, dpi=500)  # Set high DPI here\n",
    "\n",
    "plot_with_percentile_ci(axes, hedge_error_OTM, hedging_errors_ATM['ATM'],hedging_errors_12['12'], \"Hedge Error\")\n",
    "fig.savefig(\"static_hedge.jpeg\")"
   ]
  }
 ],
 "metadata": {
  "kernelspec": {
   "display_name": "base",
   "language": "python",
   "name": "python3"
  },
  "language_info": {
   "codemirror_mode": {
    "name": "ipython",
    "version": 3
   },
   "file_extension": ".py",
   "mimetype": "text/x-python",
   "name": "python",
   "nbconvert_exporter": "python",
   "pygments_lexer": "ipython3",
   "version": "3.11.5"
  }
 },
 "nbformat": 4,
 "nbformat_minor": 2
}
